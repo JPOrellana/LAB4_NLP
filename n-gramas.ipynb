{
 "cells": [
  {
   "cell_type": "markdown",
   "id": "3f7852be",
   "metadata": {},
   "source": [
    "# Laboratorio 4: N-gramas\n",
    "\n",
    "**Universidad del Valle de Guatemala**  \n",
    "**Facultad de Ingeniería**  \n",
    "**Departamento de Ciencias de la Computación**  \n",
    "**Procesamiento de Lenguaje Natural**\n",
    "\n",
    "## Integrantes\n",
    "\n",
    "- Diego Leiva       -   21752\n",
    "- Maria Ramirez     -   21342\n",
    "- Pablo Orellana    -   21970"
   ]
  },
  {
   "cell_type": "markdown",
   "id": "6a905edc",
   "metadata": {},
   "source": [
    "## Implementación de Modelo"
   ]
  },
  {
   "cell_type": "markdown",
   "id": "841e94a0",
   "metadata": {},
   "source": [
    "### Librerías"
   ]
  },
  {
   "cell_type": "code",
   "execution_count": null,
   "id": "06bb6fea",
   "metadata": {},
   "outputs": [],
   "source": [
    "import re\n",
    "from collections import Counter\n",
    "import math\n",
    "import matplotlib.pyplot as plt"
   ]
  },
  {
   "cell_type": "markdown",
   "id": "b257ff41",
   "metadata": {},
   "source": [
    "### Lectura del corpus"
   ]
  },
  {
   "cell_type": "code",
   "execution_count": null,
   "id": "a61eee74",
   "metadata": {},
   "outputs": [],
   "source": [
    "corpus = \"\"\"\n",
    "Cristiano Ronaldo forma parte de la leyenda del Real Madrid y siempre será recordado como uno de los grandes símbolos de su historia. \n",
    "Fue presentado en el Santiago Bernabéu el 6 de julio de 2009, acompañado por Eusebio y Alfredo Di Stéfano, y desde entonces no paró \n",
    "de marcar goles: 451 en 438 partidos oficiales con el Real Madrid (más de uno por encuentro). Además vio puerta en todas las \n",
    "competiciones: 312 en la Liga, 105 en la Champions, 22 en la Copa del Rey, 6 en el Mundial de Clubes, 4 en la Supercopa de España \n",
    "y 2 en la Supercopa de Europa.\n",
    "\n",
    "Nadie en la historia del club ha marcado tantos goles como el delantero portugués, cuyo palmarés en el Real Madrid es impresionante: \n",
    "4 Champions League, 3 Mundiales de Clubes, 3 Supercopas de Europa, 2 Ligas, 2 Copas del Rey y 2 Supercopas de España. A ellos suma \n",
    "4 Balones de Oro, 3 Botas de Oro, 2 Premios The Best, 3 Premios al Mejor Jugador de la UEFA y 3 Trofeos Pichichi.\n",
    "\n",
    "Trayectoria de récords\n",
    "A lo largo de sus nueve temporadas como madridista, Cristiano dejó varios récords impresionantes: máximo goleador de la historia \n",
    "del club, máximo goleador de la historia de la Copa de Europa (marcó 105 tantos en Champions con nuestro equipo); máximo goleador \n",
    "madridista en la Liga (312); más partidos de tres o más goles en la historia de la Liga (34); y más tantos en una temporada con el \n",
    "Real Madrid (61).\n",
    "\"\"\"\n",
    "\n",
    "print(\"Cantidad de párrafos:\", corpus.count('\\n\\n') + 1)"
   ]
  },
  {
   "cell_type": "markdown",
   "id": "8c177917",
   "metadata": {},
   "source": [
    "### Preprocesamiento y Tokenización"
   ]
  },
  {
   "cell_type": "code",
   "execution_count": null,
   "id": "d50d83a0",
   "metadata": {},
   "outputs": [],
   "source": [
    "# Limpieza del texto\n",
    "texto_limpio = re.sub(r'[^\\w\\s]', '', corpus.lower())\n",
    "\n",
    "# Tokenización simple\n",
    "tokens = texto_limpio.split()\n",
    "\n",
    "# Creacion de Unigramas y Bigrama\n",
    "unigrams = tokens\n",
    "bigrams = list(zip(tokens, tokens[1:]))\n",
    "\n",
    "# Conteo de bigramas y unigramas\n",
    "unigram_counts = Counter(tokens)\n",
    "bigram_counts = Counter(bigrams)\n",
    "vocabulario = set(tokens)\n",
    "\n",
    "# Mostrar resultados\n",
    "print(f\"Conteos\")\n",
    "print(f\"Unigramas: {len(unigram_counts)}\")\n",
    "print(f\"Bigramas: {len(bigram_counts)}\")\n",
    "print(\"-\" * 20)\n",
    "print(\"Vocabulario\")\n",
    "print(f\"Primeros 10 unigramas: {unigram_counts[:10]}\")  # Muestra los 10 primeros unigramas\n",
    "print(f\"Primeros 10 bigramas: {bigram_counts[:10]}\")  # Muestra los 10 primeros bigramas\n",
    "print(f\"Tamaño del vocabulario: {len(vocabulario)}\")\n",
    "print(f\"Primeros 10 palabras del vocabulario: {list(vocabulario)[:10]}\")"
   ]
  },
  {
   "cell_type": "markdown",
   "id": "59f2d734",
   "metadata": {},
   "source": [
    "### Visualización de Frecuencias"
   ]
  },
  {
   "cell_type": "code",
   "execution_count": null,
   "id": "daf474e1",
   "metadata": {},
   "outputs": [],
   "source": [
    "# Obtener las 10 n-gramas más frecuentes\n",
    "top_unigrams = unigram_counts.most_common(10)\n",
    "top_bigrams = bigram_counts.most_common(10)\n",
    "\n",
    "# Visualización de las frecuencias\n",
    "def plot_frequencies(frequencies, title):\n",
    "    \"\"\"\n",
    "    Genera un gráfico de barras para las frecuencias de n-gramas.\n",
    "    \n",
    "    Args:\n",
    "        frequencies (list of tuples): Lista de tuplas con n-gramas y sus frecuencias.\n",
    "        title (str): Título del gráfico.\n",
    "\n",
    "    Returns:\n",
    "        None\n",
    "    \"\"\"\n",
    "    labels, values = zip(*frequencies)\n",
    "    plt.figure(figsize=(10, 5))\n",
    "    plt.bar(labels, values, color='blue')\n",
    "    plt.title(title)\n",
    "    plt.xlabel('N-gramas')\n",
    "    plt.ylabel('Frecuencia')\n",
    "    plt.xticks(rotation=45)\n",
    "    plt.tight_layout()\n",
    "    plt.show()"
   ]
  },
  {
   "cell_type": "code",
   "execution_count": null,
   "id": "bd563717",
   "metadata": {},
   "outputs": [],
   "source": [
    "plot_frequencies(top_unigrams, 'Top 10 Unigramas')"
   ]
  },
  {
   "cell_type": "code",
   "execution_count": null,
   "id": "cf979c51",
   "metadata": {},
   "outputs": [],
   "source": [
    "plot_frequencies(top_bigrams, 'Top 10 Bigramas')"
   ]
  },
  {
   "cell_type": "markdown",
   "id": "940fc53a",
   "metadata": {},
   "source": [
    "#### Cálculo de Entropía y Preplejidad sin Smoothing"
   ]
  },
  {
   "cell_type": "code",
   "execution_count": null,
   "id": "15bb731e",
   "metadata": {},
   "outputs": [],
   "source": [
    "frase = \"cristiano ronaldo forma parte de la leyenda\"\n",
    "# Dividir la frase en tokens y calcular bigramas\n",
    "tokens_frase = frase.lower().split()\n",
    "bigrams_frase = list(zip(tokens_frase[:-1], tokens_frase[1:]))\n",
    "\n",
    "probabilidades = [] # Lista para almacenar las probabilidades de los bigramas\n",
    "\n",
    "# Calcular probabilidades de los bigramas en la frase\n",
    "for bigrama in bigrams_frase:\n",
    "    # Obtener la frecuencia del bigrama y del unigrama\n",
    "    c_bigram = bigram_counts.get(bigrama, 0)\n",
    "    c_unigram = unigram_counts.get(bigrama[0], 1)\n",
    "    # Calcular la probabilidad del bigrama\n",
    "    prob = c_bigram / c_unigram\n",
    "    # Agregar la probabilidad a la lista\n",
    "    probabilidades.append(prob)\n",
    "\n",
    "# Calcular entropía y perplejidad\n",
    "entropia = -sum(math.log2(p) for p in probabilidades if p > 0) / len(probabilidades)\n",
    "perplejidad = 2 ** entropia\n",
    "\n",
    "# resultados\n",
    "print(\"Frase:\", frase)\n",
    "print(\"Bigrama de la frase:\", bigrams_frase)\n",
    "print(\"Probabilidades:\", probabilidades)\n",
    "print(\"Entropía (sin smoothing):\", round(entropia, 4))\n",
    "print(\"Perplejidad (sin smoothing):\", round(perplejidad, 4))"
   ]
  },
  {
   "cell_type": "markdown",
   "id": "65a2e9ea",
   "metadata": {},
   "source": [
    "#### Técnicas de Smoothing Laplace y Add-K"
   ]
  },
  {
   "cell_type": "code",
   "execution_count": null,
   "id": "9af17765",
   "metadata": {},
   "outputs": [],
   "source": [
    "V = len(vocabulario)  # Tamaño del vocabulario\n",
    "k = 0.5    # Valor de k para Add-K smoothing\n",
    "\n",
    "# Inicializar listas para almacenar las probabilidades con smoothing\n",
    "prob_laplace = []\n",
    "prob_add_k = []\n",
    "\n",
    "# Calcular probabilidades con Laplace y Add-K smoothing\n",
    "# para cada bigrama en la frase\n",
    "for bigrama in bigrams_frase:\n",
    "    # Obtener la frecuencia del bigrama y del unigrama\n",
    "    c_bigram = bigram_counts.get(bigrama, 0)\n",
    "    c_unigram = unigram_counts.get(bigrama[0], 0)\n",
    "\n",
    "    # Calcular las probabilidades con Laplace y Add-K smoothing\n",
    "    # Laplace smoothing: P(w2|w1) = (C(w1, w2) + 1) / (C(w1) + V)\n",
    "    # Add-K smoothing: P(w2|w1) = (C(w1, w2) + k) / (C(w1) + k * V)\n",
    "    laplace = (c_bigram + 1) / (c_unigram + V)\n",
    "    addk = (c_bigram + k) / (c_unigram + k * V)\n",
    "\n",
    "    # Agregar las probabilidades a las listas\n",
    "    prob_laplace.append(laplace)\n",
    "    prob_add_k.append(addk)\n",
    "\n",
    "\n",
    "# Entropía y Perplejidad Laplace\n",
    "entropia_laplace = -sum(math.log2(p) for p in prob_laplace) / len(prob_laplace)\n",
    "perplejidad_laplace = 2 ** entropia_laplace\n",
    "\n",
    "# Entropía y Perplejidad Add-K\n",
    "entropia_addk = -sum(math.log2(p) for p in prob_add_k) / len(prob_add_k)\n",
    "perplejidad_addk = 2 ** entropia_addk\n",
    "\n",
    "print(\"Entropía Laplace:\", round(entropia_laplace, 4))\n",
    "print(\"Perplejidad Laplace:\", round(perplejidad_laplace, 4))\n",
    "print(\"Entropía Add-K:\", round(entropia_addk, 4))\n",
    "print(\"Perplejidad Add-K:\", round(perplejidad_addk, 4))"
   ]
  }
 ],
 "metadata": {
  "kernelspec": {
   "display_name": "Procesamiento",
   "language": "python",
   "name": "python3"
  },
  "language_info": {
   "codemirror_mode": {
    "name": "ipython",
    "version": 3
   },
   "file_extension": ".py",
   "mimetype": "text/x-python",
   "name": "python",
   "nbconvert_exporter": "python",
   "pygments_lexer": "ipython3",
   "version": "3.12.11"
  }
 },
 "nbformat": 4,
 "nbformat_minor": 5
}
