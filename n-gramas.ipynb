{
 "cells": [
  {
   "cell_type": "markdown",
   "id": "3f7852be",
   "metadata": {},
   "source": [
    "## Laboratorio 4 - Modelo N-grama\n",
    "---\n",
    "- Diego Leiva 21752\n",
    "- Gustavo Gonzalez \n",
    "- Marta Ramirez\n",
    "- Pablo Orellana 21970"
   ]
  },
  {
   "cell_type": "markdown",
   "id": "6a905edc",
   "metadata": {},
   "source": [
    "### Implementación de Modelo"
   ]
  },
  {
   "cell_type": "markdown",
   "id": "841e94a0",
   "metadata": {},
   "source": [
    "#### Librerías"
   ]
  },
  {
   "cell_type": "code",
   "execution_count": 1,
   "id": "06bb6fea",
   "metadata": {},
   "outputs": [],
   "source": [
    "import re\n",
    "from collections import Counter\n",
    "import math"
   ]
  },
  {
   "cell_type": "markdown",
   "id": "b257ff41",
   "metadata": {},
   "source": [
    "#### Lectura de corpus"
   ]
  },
  {
   "cell_type": "code",
   "execution_count": 2,
   "id": "a61eee74",
   "metadata": {},
   "outputs": [
    {
     "name": "stdout",
     "output_type": "stream",
     "text": [
      "Cristiano Ronaldo forma parte de la leyenda del Real Madrid y siempre será recordado como uno de los grandes símbolos de su historia. \n",
      "Fue presentado en el Santiago Bernabéu el 6 de julio de 2009, acompañado por Eusebio y Alfredo Di Stéfano, y desde entonces no paró \n",
      "de marcar goles: 451 en 438 partidos oficiales con el Real Madrid (más de uno por encuentro). Además vio puerta en todas las \n",
      "competiciones: 312 en la Liga, 105 en la Champions, 22 en la Copa del Rey, 6 en el Mundial de Clubes, 4 en\n"
     ]
    }
   ],
   "source": [
    "with open(\"cr7.txt\", \"r\", encoding=\"utf-8\") as f:\n",
    "    texto = f.read()\n",
    "print(texto[:500])"
   ]
  },
  {
   "cell_type": "markdown",
   "id": "8c177917",
   "metadata": {},
   "source": [
    "#### Limpieza | Tokenización | Bigrama | Conteo"
   ]
  },
  {
   "cell_type": "code",
   "execution_count": 3,
   "id": "d50d83a0",
   "metadata": {},
   "outputs": [
    {
     "name": "stdout",
     "output_type": "stream",
     "text": [
      "Primeros tokens: ['cristiano', 'ronaldo', 'forma', 'parte', 'de', 'la', 'leyenda', 'del', 'real', 'madrid']\n",
      "Primeros bigramas: [('cristiano', 'ronaldo'), ('ronaldo', 'forma'), ('forma', 'parte'), ('parte', 'de'), ('de', 'la'), ('la', 'leyenda'), ('leyenda', 'del'), ('del', 'real'), ('real', 'madrid'), ('madrid', 'y')]\n"
     ]
    }
   ],
   "source": [
    "# Limpieza del texto\n",
    "texto_limpio = re.sub(r'[^\\w\\s]', '', texto.lower())\n",
    "\n",
    "# Tokenización simple\n",
    "tokens = texto_limpio.split()\n",
    "\n",
    "# Bigrama\n",
    "bigrams = list(zip(tokens[:-1], tokens[1:]))\n",
    "\n",
    "# Conteo\n",
    "unigram_counts = Counter(tokens)\n",
    "bigram_counts = Counter(bigrams)\n",
    "vocabulario = set(tokens)\n",
    "\n",
    "print(\"Primeros tokens:\", tokens[:10])\n",
    "print(\"Primeros bigramas:\", bigrams[:10])"
   ]
  },
  {
   "cell_type": "markdown",
   "id": "940fc53a",
   "metadata": {},
   "source": [
    "#### Cálculo de Entropía y Preplejidad"
   ]
  },
  {
   "cell_type": "code",
   "execution_count": 4,
   "id": "15bb731e",
   "metadata": {},
   "outputs": [
    {
     "name": "stdout",
     "output_type": "stream",
     "text": [
      "Probabilidades: [0.5, 1.0, 1.0, 1.0, 0.25, 0.07142857142857142]\n",
      "Entropía: 1.1346\n",
      "Perplejidad: 2.1955\n"
     ]
    }
   ],
   "source": [
    "frase = \"cristiano ronaldo forma parte de la leyenda\"\n",
    "tokens_frase = frase.lower().split()\n",
    "bigrams_frase = list(zip(tokens_frase[:-1], tokens_frase[1:]))\n",
    "\n",
    "probabilidades = []\n",
    "for bigrama in bigrams_frase:\n",
    "    c_bigram = bigram_counts.get(bigrama, 0)\n",
    "    c_unigram = unigram_counts.get(bigrama[0], 1)\n",
    "    prob = c_bigram / c_unigram\n",
    "    probabilidades.append(prob)\n",
    "\n",
    "entropia = -sum(math.log2(p) for p in probabilidades if p > 0) / len(probabilidades)\n",
    "perplejidad = 2 ** entropia\n",
    "\n",
    "print(\"Probabilidades:\", probabilidades)\n",
    "print(\"Entropía:\", round(entropia, 4))\n",
    "print(\"Perplejidad:\", round(perplejidad, 4))\n"
   ]
  },
  {
   "cell_type": "markdown",
   "id": "65a2e9ea",
   "metadata": {},
   "source": [
    "#### Aplicación de Smoothing"
   ]
  },
  {
   "cell_type": "code",
   "execution_count": 5,
   "id": "9af17765",
   "metadata": {},
   "outputs": [
    {
     "name": "stdout",
     "output_type": "stream",
     "text": [
      "Laplace: [0.016, 0.0161, 0.0161, 0.0161, 0.0476, 0.0146]\n",
      "Add-0.5: [0.0236, 0.024, 0.024, 0.024, 0.076, 0.0199]\n"
     ]
    }
   ],
   "source": [
    "\n",
    "# Smoothing\n",
    "V = len(vocabulario)\n",
    "k = 0.5\n",
    "\n",
    "prob_laplace = []\n",
    "prob_add_k = []\n",
    "for bigrama in bigrams_frase:\n",
    "    c_bigram = bigram_counts.get(bigrama, 0)\n",
    "    c_unigram = unigram_counts.get(bigrama[0], 0)\n",
    "    laplace = (c_bigram + 1) / (c_unigram + V)\n",
    "    addk = (c_bigram + k) / (c_unigram + k * V)\n",
    "    prob_laplace.append(laplace)\n",
    "    prob_add_k.append(addk)\n",
    "\n",
    "print(\"Laplace:\", [round(p, 4) for p in prob_laplace])\n",
    "print(\"Add-0.5:\", [round(p, 4) for p in prob_add_k])\n"
   ]
  }
 ],
 "metadata": {
  "kernelspec": {
   "display_name": "Procesamiento",
   "language": "python",
   "name": "python3"
  },
  "language_info": {
   "codemirror_mode": {
    "name": "ipython",
    "version": 3
   },
   "file_extension": ".py",
   "mimetype": "text/x-python",
   "name": "python",
   "nbconvert_exporter": "python",
   "pygments_lexer": "ipython3",
   "version": "3.12.11"
  }
 },
 "nbformat": 4,
 "nbformat_minor": 5
}
