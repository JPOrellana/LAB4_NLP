{
 "cells": [
  {
   "cell_type": "markdown",
   "id": "3f7852be",
   "metadata": {},
   "source": [
    "# Laboratorio 4: N-gramas\n",
    "\n",
    "**Universidad del Valle de Guatemala**  \n",
    "**Facultad de Ingeniería**  \n",
    "**Departamento de Ciencias de la Computación**  \n",
    "**Procesamiento de Lenguaje Natural**\n",
    "\n",
    "## Integrantes\n",
    "\n",
    "- Diego Leiva       -   21752\n",
    "- Maria Ramirez     -   21342\n",
    "- Pablo Orellana    -   21970"
   ]
  },
  {
   "cell_type": "markdown",
   "id": "6a905edc",
   "metadata": {},
   "source": [
    "## Implementación de Modelo"
   ]
  },
  {
   "cell_type": "markdown",
   "id": "841e94a0",
   "metadata": {},
   "source": [
    "### Librerías"
   ]
  },
  {
   "cell_type": "code",
   "execution_count": 1,
   "id": "06bb6fea",
   "metadata": {},
   "outputs": [],
   "source": [
    "import re\n",
    "from collections import Counter\n",
    "import math\n",
    "import matplotlib.pyplot as plt\n",
    "import pandas as pd"
   ]
  },
  {
   "cell_type": "markdown",
   "id": "b257ff41",
   "metadata": {},
   "source": [
    "### Lectura del corpus"
   ]
  },
  {
   "cell_type": "code",
   "execution_count": 2,
   "id": "a61eee74",
   "metadata": {},
   "outputs": [
    {
     "name": "stdout",
     "output_type": "stream",
     "text": [
      "Cantidad de párrafos: 3\n"
     ]
    }
   ],
   "source": [
    "corpus = \"\"\"\n",
    "Cristiano Ronaldo forma parte de la leyenda del Real Madrid y siempre será recordado como uno de los grandes símbolos de su historia. \n",
    "Fue presentado en el Santiago Bernabéu el 6 de julio de 2009, acompañado por Eusebio y Alfredo Di Stéfano, y desde entonces no paró \n",
    "de marcar goles: 451 en 438 partidos oficiales con el Real Madrid (más de uno por encuentro). Además vio puerta en todas las \n",
    "competiciones: 312 en la Liga, 105 en la Champions, 22 en la Copa del Rey, 6 en el Mundial de Clubes, 4 en la Supercopa de España \n",
    "y 2 en la Supercopa de Europa.\n",
    "\n",
    "Nadie en la historia del club ha marcado tantos goles como el delantero portugués, cuyo palmarés en el Real Madrid es impresionante: \n",
    "4 Champions League, 3 Mundiales de Clubes, 3 Supercopas de Europa, 2 Ligas, 2 Copas del Rey y 2 Supercopas de España. A ellos suma \n",
    "4 Balones de Oro, 3 Botas de Oro, 2 Premios The Best, 3 Premios al Mejor Jugador de la UEFA y 3 Trofeos Pichichi.\n",
    "\n",
    "Trayectoria de récords\n",
    "A lo largo de sus nueve temporadas como madridista, Cristiano dejó varios récords impresionantes: máximo goleador de la historia \n",
    "del club, máximo goleador de la historia de la Copa de Europa (marcó 105 tantos en Champions con nuestro equipo); máximo goleador \n",
    "madridista en la Liga (312); más partidos de tres o más goles en la historia de la Liga (34); y más tantos en una temporada con el \n",
    "Real Madrid (61).\n",
    "\"\"\"\n",
    "\n",
    "print(\"Cantidad de párrafos:\", corpus.count('\\n\\n') + 1)"
   ]
  },
  {
   "cell_type": "markdown",
   "id": "8c177917",
   "metadata": {},
   "source": [
    "### Preprocesamiento y Tokenización"
   ]
  },
  {
   "cell_type": "code",
   "execution_count": 3,
   "id": "d50d83a0",
   "metadata": {},
   "outputs": [
    {
     "name": "stdout",
     "output_type": "stream",
     "text": [
      "Conteos\n",
      "Unigramas: 111\n",
      "Bigramas: 180\n",
      "--------------------\n",
      "Vocabulario\n",
      "Primeros 10 unigramas: ['cristiano', 'ronaldo', 'forma', 'parte', 'de', 'la', 'leyenda', 'del', 'real', 'madrid']\n",
      "Primeros 10 bigramas: [('cristiano', 'ronaldo'), ('ronaldo', 'forma'), ('forma', 'parte'), ('parte', 'de'), ('de', 'la'), ('la', 'leyenda'), ('leyenda', 'del'), ('del', 'real'), ('real', 'madrid'), ('madrid', 'y')]\n",
      "Tamaño del vocabulario: 111\n",
      "Primeros 10 palabras del vocabulario: ['nadie', 'liga', 'goleador', 'forma', 'desde', 'equipo', 'santiago', 'delantero', 'suma', 'cuyo']\n"
     ]
    }
   ],
   "source": [
    "# Limpieza del texto\n",
    "texto_limpio = re.sub(r'[^\\w\\s]', '', corpus.lower()) # Eliminar espacios en blanco\n",
    "texto_limpio = re.sub(r'\\s+', ' ', texto_limpio).strip() # Eliminar espacios en blanco adicionales\n",
    "texto_limpio = re.sub(r'\\d+', '', texto_limpio) # Eliminar números\n",
    "\n",
    "# Tokenización simple\n",
    "tokens = texto_limpio.split()\n",
    "\n",
    "# Creacion de Unigramas y Bigrama\n",
    "unigrams = tokens\n",
    "bigrams = list(zip(tokens, tokens[1:]))\n",
    "\n",
    "# Conteo de bigramas y unigramas\n",
    "unigram_counts = Counter(tokens)\n",
    "bigram_counts = Counter(bigrams)\n",
    "vocabulario = set(tokens)\n",
    "\n",
    "# Mostrar resultados\n",
    "print(f\"Conteos\")\n",
    "print(f\"Unigramas: {len(unigram_counts)}\")\n",
    "print(f\"Bigramas: {len(bigram_counts)}\")\n",
    "print(\"-\" * 20)\n",
    "print(\"Vocabulario\")\n",
    "print(f\"Primeros 10 unigramas: {list(unigram_counts)[:10]}\")  # Muestra los 10 primeros unigramas\n",
    "print(f\"Primeros 10 bigramas: {list(bigram_counts)[:10]}\")  # Muestra los 10 primeros bigramas\n",
    "print(f\"Tamaño del vocabulario: {len(vocabulario)}\")\n",
    "print(f\"Primeros 10 palabras del vocabulario: {list(vocabulario)[:10]}\")"
   ]
  },
  {
   "cell_type": "markdown",
   "id": "59f2d734",
   "metadata": {},
   "source": [
    "### Visualización de Frecuencias"
   ]
  },
  {
   "cell_type": "code",
   "execution_count": 4,
   "id": "daf474e1",
   "metadata": {},
   "outputs": [],
   "source": [
    "# Obtener las 10 n-gramas más frecuentes\n",
    "top_unigrams = unigram_counts.most_common(10)\n",
    "top_bigrams = bigram_counts.most_common(10)\n",
    "\n",
    "# Visualización de las frecuencias\n",
    "def plot_frequencies(frequencies, title):\n",
    "    \"\"\"\n",
    "    Genera un gráfico de barras para las frecuencias de n-gramas.\n",
    "    \n",
    "    Args:\n",
    "        frequencies (list of tuples): Lista de tuplas con n-gramas y sus frecuencias.\n",
    "        title (str): Título del gráfico.\n",
    "\n",
    "    Returns:\n",
    "        None\n",
    "    \"\"\"\n",
    "    labels, values = zip(*frequencies)\n",
    "    # Convertir bigramas a cadenas legibles\n",
    "    labels = [' '.join(label) if isinstance(label, tuple) else label for label in labels]\n",
    "\n",
    "    # Crear el gráfico\n",
    "    plt.figure(figsize=(10, 5))\n",
    "    plt.bar(labels, values, color='blue')\n",
    "    plt.title(title)\n",
    "    plt.xlabel('N-gramas')\n",
    "    plt.ylabel('Frecuencia')\n",
    "    plt.xticks(rotation=45)\n",
    "    plt.tight_layout()\n",
    "    plt.show()"
   ]
  },
  {
   "cell_type": "code",
   "execution_count": 5,
   "id": "bd563717",
   "metadata": {},
   "outputs": [
    {
     "data": {
      "image/png": "[encoded data removed]",
      "text/plain": [
       "<Figure size 1000x500 with 1 Axes>"
      ]
     },
     "metadata": {},
     "output_type": "display_data"
    }
   ],
   "source": [
    "plot_frequencies(top_unigrams, 'Top 10 Unigramas')"
   ]
  },
  {
   "cell_type": "code",
   "execution_count": 6,
   "id": "cf979c51",
   "metadata": {},
   "outputs": [
    {
     "data": {
      "image/png": "[encoded data removed]",
      "text/plain": [
       "<Figure size 1000x500 with 1 Axes>"
      ]
     },
     "metadata": {},
     "output_type": "display_data"
    }
   ],
   "source": [
    "plot_frequencies(top_bigrams, 'Top 10 Bigramas')"
   ]
  },
  {
   "cell_type": "markdown",
   "id": "940fc53a",
   "metadata": {},
   "source": [
    "### Cálculo de Entropía y Preplejidad sin Smoothing"
   ]
  },
  {
   "cell_type": "code",
   "execution_count": 7,
   "id": "d0039548",
   "metadata": {},
   "outputs": [],
   "source": [
    "# Entropía y perplejidad\n",
    "def calcular_entropia(prob_list):\n",
    "    \"\"\"\n",
    "    Calcula la entropía de una lista de probabilidades.\n",
    "    Args:\n",
    "        prob_list (list of float): Lista de probabilidades.\n",
    "    Returns:\n",
    "        float: Entropía calculada.\n",
    "    \"\"\"\n",
    "    return -sum(math.log2(p) for p in prob_list) / len(prob_list)\n",
    "\n",
    "def calcular_perplejidad(entropia):\n",
    "    \"\"\"\n",
    "    Calcula la perplejidad a partir de la entropía.\n",
    "    Args:\n",
    "        entropia (float): Entropía.\n",
    "    Returns:\n",
    "        float: Perplejidad calculada.\n",
    "    \"\"\"\n",
    "    return 2 ** entropia"
   ]
  },
  {
   "cell_type": "code",
   "execution_count": 8,
   "id": "15bb731e",
   "metadata": {},
   "outputs": [
    {
     "name": "stdout",
     "output_type": "stream",
     "text": [
      "Frase: cristiano ronaldo forma parte de la leyenda\n",
      "Bigrama de la frase: [('cristiano', 'ronaldo'), ('ronaldo', 'forma'), ('forma', 'parte'), ('parte', 'de'), ('de', 'la'), ('la', 'leyenda')]\n",
      "Probabilidades: [0.5, 1.0, 1.0, 1.0, 0.25, 0.07142857142857142]\n",
      "Entropía (sin smoothing): 1.1346\n",
      "Perplejidad (sin smoothing): 2.1955\n"
     ]
    }
   ],
   "source": [
    "frase = \"cristiano ronaldo forma parte de la leyenda\"\n",
    "# Dividir la frase en tokens y calcular bigramas\n",
    "tokens_frase = frase.lower().split()\n",
    "bigrams_frase = list(zip(tokens_frase[:-1], tokens_frase[1:]))\n",
    "\n",
    "probabilidades = [] # Lista para almacenar las probabilidades de los bigramas\n",
    "\n",
    "# Calcular probabilidades de los bigramas en la frase\n",
    "for bigrama in bigrams_frase:\n",
    "    # Obtener la frecuencia del bigrama y del unigrama\n",
    "    c_bigram = bigram_counts.get(bigrama, 0)\n",
    "    c_unigram = unigram_counts.get(bigrama[0], 1)\n",
    "    # Calcular la probabilidad del bigrama\n",
    "    prob = c_bigram / c_unigram\n",
    "    # Agregar la probabilidad a la lista\n",
    "    probabilidades.append(prob)\n",
    "\n",
    "# Calcular entropía y perplejidad\n",
    "entropia = calcular_entropia(probabilidades)\n",
    "perplejidad = calcular_perplejidad(entropia)\n",
    "\n",
    "# resultados\n",
    "print(\"Frase:\", frase)\n",
    "print(\"Bigrama de la frase:\", bigrams_frase)\n",
    "print(\"Probabilidades:\", probabilidades)\n",
    "print(\"Entropía (sin smoothing):\", round(entropia, 4))\n",
    "print(\"Perplejidad (sin smoothing):\", round(perplejidad, 4))"
   ]
  },
  {
   "cell_type": "markdown",
   "id": "65a2e9ea",
   "metadata": {},
   "source": [
    "### Técnicas de Smoothing Laplace y Add-K"
   ]
  },
  {
   "cell_type": "code",
   "execution_count": 9,
   "id": "016b13a9",
   "metadata": {},
   "outputs": [],
   "source": [
    "V = len(vocabulario)  # Tamaño del vocabulario\n",
    "k = 0.5    # Valor de k para Add-K smoothing"
   ]
  },
  {
   "cell_type": "markdown",
   "id": "6d214f86",
   "metadata": {},
   "source": [
    "#### Funciones de probabilidad con smoothing"
   ]
  },
  {
   "cell_type": "code",
   "execution_count": 10,
   "id": "0c15f908",
   "metadata": {},
   "outputs": [],
   "source": [
    "def laplace_probability(w1, w2):\n",
    "    \"\"\"\n",
    "    Calcula la probabilidad Laplace para el bigrama (w1, w2)\n",
    "    Args:\n",
    "        w1 (str): Primera palabra del bigrama.\n",
    "        w2 (str): Segunda palabra del bigrama.\n",
    "    Returns:\n",
    "        float: Probabilidad Laplace del bigrama (w1, w2).\n",
    "    \"\"\"\n",
    "    return (bigram_counts.get((w1, w2), 0) + 1) / (unigram_counts.get(w1, 0) + V)\n",
    "\n",
    "def add_k_probability(w1, w2, k=0.5):\n",
    "    \"\"\"\n",
    "    Calcula la probabilidad Add-k para el bigrama (w1, w2)\n",
    "    Args:\n",
    "        w1 (str): Primera palabra del bigrama.\n",
    "        w2 (str): Segunda palabra del bigrama.\n",
    "        k (float): Constante de suavizado (default es 0.5).\n",
    "    Returns:\n",
    "        float: Probabilidad Add-k del bigrama (w1, w2).\n",
    "    \"\"\"\n",
    "    return (bigram_counts.get((w1, w2), 0) + k) / (unigram_counts.get(w1, 0) + k * V)"
   ]
  },
  {
   "cell_type": "markdown",
   "id": "0db2b4b6",
   "metadata": {},
   "source": [
    "#### Cálculo de probabilidades con smoothing"
   ]
  },
  {
   "cell_type": "code",
   "execution_count": 11,
   "id": "9af17765",
   "metadata": {},
   "outputs": [
    {
     "name": "stdout",
     "output_type": "stream",
     "text": [
      "Entropía Laplace: 5.5796\n",
      "Perplejidad Laplace: 47.8213\n",
      "Entropía Add-K: 5.0188\n",
      "Perplejidad Add-K: 32.419\n"
     ]
    }
   ],
   "source": [
    "# Inicializar listas para almacenar las probabilidades con smoothing\n",
    "prob_laplace = []\n",
    "prob_add_k = []\n",
    "\n",
    "# Calcular probabilidades con Laplace y Add-K smoothing\n",
    "# para cada bigrama en la frase\n",
    "for bigrama in bigrams_frase:\n",
    "    # Calcular las probabilidades con Laplace y Add-K smoothing\n",
    "    # Laplace smoothing: P(w2|w1) = (C(w1, w2) + 1) / (C(w1) + V)\n",
    "    # Add-K smoothing: P(w2|w1) = (C(w1, w2) + k) / (C(w1) + k * V)\n",
    "    laplace = laplace_probability(bigrama[0], bigrama[1])\n",
    "    addk = add_k_probability(bigrama[0], bigrama[1], k)\n",
    "\n",
    "    # Agregar las probabilidades a las listas\n",
    "    prob_laplace.append(laplace)\n",
    "    prob_add_k.append(addk)\n",
    "\n",
    "\n",
    "# Entropía y Perplejidad Laplace\n",
    "entropia_laplace = -sum(math.log2(p) for p in prob_laplace) / len(prob_laplace)\n",
    "perplejidad_laplace = 2 ** entropia_laplace\n",
    "\n",
    "# Entropía y Perplejidad Add-K\n",
    "entropia_addk = -sum(math.log2(p) for p in prob_add_k) / len(prob_add_k)\n",
    "perplejidad_addk = 2 ** entropia_addk\n",
    "\n",
    "print(\"Entropía Laplace:\", round(entropia_laplace, 4))\n",
    "print(\"Perplejidad Laplace:\", round(perplejidad_laplace, 4))\n",
    "print(\"Entropía Add-K:\", round(entropia_addk, 4))\n",
    "print(\"Perplejidad Add-K:\", round(perplejidad_addk, 4))"
   ]
  },
  {
   "cell_type": "markdown",
   "id": "6a0e13b4",
   "metadata": {},
   "source": [
    "### Tabla resumen: conteos y probabilidades"
   ]
  },
  {
   "cell_type": "code",
   "execution_count": 12,
   "id": "944a304d",
   "metadata": {},
   "outputs": [
    {
     "data": {
      "text/html": [
       "<div>\n",
       "<style scoped>\n",
       "    .dataframe tbody tr th:only-of-type {\n",
       "        vertical-align: middle;\n",
       "    }\n",
       "\n",
       "    .dataframe tbody tr th {\n",
       "        vertical-align: top;\n",
       "    }\n",
       "\n",
       "    .dataframe thead th {\n",
       "        text-align: right;\n",
       "    }\n",
       "</style>\n",
       "<table border=\"1\" class=\"dataframe\">\n",
       "  <thead>\n",
       "    <tr style=\"text-align: right;\">\n",
       "      <th></th>\n",
       "      <th>P1</th>\n",
       "      <th>P2</th>\n",
       "      <th>Conteo Bigrama</th>\n",
       "      <th>Conteo Unigrama</th>\n",
       "      <th>Probabilidad Laplace</th>\n",
       "      <th>Probabilidad Add-K</th>\n",
       "    </tr>\n",
       "  </thead>\n",
       "  <tbody>\n",
       "    <tr>\n",
       "      <th>0</th>\n",
       "      <td>cristiano</td>\n",
       "      <td>ronaldo</td>\n",
       "      <td>1</td>\n",
       "      <td>2</td>\n",
       "      <td>0.017699</td>\n",
       "      <td>0.026087</td>\n",
       "    </tr>\n",
       "    <tr>\n",
       "      <th>1</th>\n",
       "      <td>ronaldo</td>\n",
       "      <td>forma</td>\n",
       "      <td>1</td>\n",
       "      <td>1</td>\n",
       "      <td>0.017857</td>\n",
       "      <td>0.026549</td>\n",
       "    </tr>\n",
       "    <tr>\n",
       "      <th>2</th>\n",
       "      <td>forma</td>\n",
       "      <td>parte</td>\n",
       "      <td>1</td>\n",
       "      <td>1</td>\n",
       "      <td>0.017857</td>\n",
       "      <td>0.026549</td>\n",
       "    </tr>\n",
       "    <tr>\n",
       "      <th>3</th>\n",
       "      <td>parte</td>\n",
       "      <td>de</td>\n",
       "      <td>1</td>\n",
       "      <td>1</td>\n",
       "      <td>0.017857</td>\n",
       "      <td>0.026549</td>\n",
       "    </tr>\n",
       "    <tr>\n",
       "      <th>4</th>\n",
       "      <td>de</td>\n",
       "      <td>la</td>\n",
       "      <td>6</td>\n",
       "      <td>24</td>\n",
       "      <td>0.051852</td>\n",
       "      <td>0.081761</td>\n",
       "    </tr>\n",
       "    <tr>\n",
       "      <th>5</th>\n",
       "      <td>la</td>\n",
       "      <td>leyenda</td>\n",
       "      <td>1</td>\n",
       "      <td>14</td>\n",
       "      <td>0.016000</td>\n",
       "      <td>0.021583</td>\n",
       "    </tr>\n",
       "  </tbody>\n",
       "</table>\n",
       "</div>"
      ],
      "text/plain": [
       "          P1       P2  Conteo Bigrama  Conteo Unigrama  Probabilidad Laplace  \\\n",
       "0  cristiano  ronaldo               1                2              0.017699   \n",
       "1    ronaldo    forma               1                1              0.017857   \n",
       "2      forma    parte               1                1              0.017857   \n",
       "3      parte       de               1                1              0.017857   \n",
       "4         de       la               6               24              0.051852   \n",
       "5         la  leyenda               1               14              0.016000   \n",
       "\n",
       "   Probabilidad Add-K  \n",
       "0            0.026087  \n",
       "1            0.026549  \n",
       "2            0.026549  \n",
       "3            0.026549  \n",
       "4            0.081761  \n",
       "5            0.021583  "
      ]
     },
     "metadata": {},
     "output_type": "display_data"
    }
   ],
   "source": [
    "# Crear DataFrame con los bigramas de la frase\n",
    "df = pd.DataFrame(bigrams_frase, columns=[\"P1\", \"P2\"])\n",
    "\n",
    "# Agregar columnas de conteo\n",
    "df['Conteo Bigrama'] = df.apply(lambda row: bigram_counts.get((row['P1'], row['P2']), 0), axis=1)\n",
    "df['Conteo Unigrama'] = df['P1'].apply(lambda w: unigram_counts.get(w, 0))\n",
    "\n",
    "# Agregar columnas de probabilidades\n",
    "df['Probabilidad Laplace'] = df.apply(lambda row: round(laplace_probability(row['P1'], row['P2']), 6), axis=1)\n",
    "df['Probabilidad Add-K'] = df.apply(lambda row: round(add_k_probability(row['P1'], row['P2'], k=0.5), 6), axis=1)\n",
    "\n",
    "# Mostrar la tabla\n",
    "display(df)"
   ]
  },
  {
   "cell_type": "markdown",
   "id": "0fa7e69b",
   "metadata": {},
   "source": [
    "### Ejercicio Práctico"
   ]
  },
  {
   "cell_type": "markdown",
   "id": "b68b3b7b",
   "metadata": {},
   "source": [
    "**Objetivo**    \n",
    "Evaluar cómo un modelo de bigramas responde ante una frase con palabras o combinaciones poco frecuentes o no vistas en el corpus, utilizando Laplace y Add-K smoothing para evitar probabilidades cero.\n",
    "\n",
    "**Instrucciones**   \n",
    "Considerando la frase `\"ronaldo juega con portugal\"` realizar los siguientes pasos:\n",
    "- Tokenizar la frase y generar sus bigramas.\n",
    "   - Calcular las probabilidades de los bigramas usando:\n",
    "     - Frecuencia directa (sin smoothing)\n",
    "     - Laplace smoothing\n",
    "     - Add-K smoothing (k = 0.5)\n",
    "   - Calcular la entropía y perplejidad bajo cada técnica.\n",
    "   - Comparar los resultados obtenidos.\n",
    "\n",
    "**Preguntas clave**     \n",
    "- ¿Cuál técnica produce menor perplejidad? ¿Por qué?\n",
    "- ¿Qué sucede cuando un bigrama no aparece en el corpus original?"
   ]
  },
  {
   "cell_type": "code",
   "execution_count": 13,
   "id": "88fd2b45",
   "metadata": {},
   "outputs": [
    {
     "name": "stdout",
     "output_type": "stream",
     "text": [
      "La frase contiene bigramas con probabilidad cero. No se puede calcular entropía y perplejidad sin smoothing.\n",
      "Frase: cristiano ronaldo juega en portugal\n",
      "Sin smoothing → Entropía: inf, Perplejidad: inf\n",
      "Laplace       → Entropía: 6.5998, Perplejidad: 96.9929\n",
      "Add-K (k=0.5) → Entropía: 6.5037, Perplejidad: 90.7401\n"
     ]
    },
    {
     "data": {
      "text/html": [
       "<div>\n",
       "<style scoped>\n",
       "    .dataframe tbody tr th:only-of-type {\n",
       "        vertical-align: middle;\n",
       "    }\n",
       "\n",
       "    .dataframe tbody tr th {\n",
       "        vertical-align: top;\n",
       "    }\n",
       "\n",
       "    .dataframe thead th {\n",
       "        text-align: right;\n",
       "    }\n",
       "</style>\n",
       "<table border=\"1\" class=\"dataframe\">\n",
       "  <thead>\n",
       "    <tr style=\"text-align: right;\">\n",
       "      <th></th>\n",
       "      <th>P1</th>\n",
       "      <th>P2</th>\n",
       "      <th>Conteo Bigrama</th>\n",
       "      <th>Conteo Unigrama</th>\n",
       "      <th>Probabilidad sin smoothing</th>\n",
       "      <th>Probabilidad Laplace</th>\n",
       "      <th>Probabilidad Add-K</th>\n",
       "    </tr>\n",
       "  </thead>\n",
       "  <tbody>\n",
       "    <tr>\n",
       "      <th>0</th>\n",
       "      <td>cristiano</td>\n",
       "      <td>ronaldo</td>\n",
       "      <td>1</td>\n",
       "      <td>2</td>\n",
       "      <td>0.5</td>\n",
       "      <td>0.017699</td>\n",
       "      <td>0.026087</td>\n",
       "    </tr>\n",
       "    <tr>\n",
       "      <th>1</th>\n",
       "      <td>ronaldo</td>\n",
       "      <td>juega</td>\n",
       "      <td>0</td>\n",
       "      <td>1</td>\n",
       "      <td>0.0</td>\n",
       "      <td>0.008929</td>\n",
       "      <td>0.008850</td>\n",
       "    </tr>\n",
       "    <tr>\n",
       "      <th>2</th>\n",
       "      <td>juega</td>\n",
       "      <td>en</td>\n",
       "      <td>0</td>\n",
       "      <td>0</td>\n",
       "      <td>0.0</td>\n",
       "      <td>0.009009</td>\n",
       "      <td>0.009009</td>\n",
       "    </tr>\n",
       "    <tr>\n",
       "      <th>3</th>\n",
       "      <td>en</td>\n",
       "      <td>portugal</td>\n",
       "      <td>0</td>\n",
       "      <td>15</td>\n",
       "      <td>0.0</td>\n",
       "      <td>0.007937</td>\n",
       "      <td>0.007092</td>\n",
       "    </tr>\n",
       "  </tbody>\n",
       "</table>\n",
       "</div>"
      ],
      "text/plain": [
       "          P1        P2  Conteo Bigrama  Conteo Unigrama  \\\n",
       "0  cristiano   ronaldo               1                2   \n",
       "1    ronaldo     juega               0                1   \n",
       "2      juega        en               0                0   \n",
       "3         en  portugal               0               15   \n",
       "\n",
       "   Probabilidad sin smoothing  Probabilidad Laplace  Probabilidad Add-K  \n",
       "0                         0.5              0.017699            0.026087  \n",
       "1                         0.0              0.008929            0.008850  \n",
       "2                         0.0              0.009009            0.009009  \n",
       "3                         0.0              0.007937            0.007092  "
      ]
     },
     "metadata": {},
     "output_type": "display_data"
    }
   ],
   "source": [
    "# Frase nueva para el ejercicio\n",
    "frase_nueva = \"cristiano ronaldo juega en portugal\"\n",
    "tokens_nueva = frase_nueva.lower().split()\n",
    "bigrams_nueva = list(zip(tokens_nueva[:-1], tokens_nueva[1:]))\n",
    "\n",
    "# Cálculo de probabilidades\n",
    "prob_laplace_nueva = [laplace_probability(w1, w2) for w1, w2 in bigrams_nueva]\n",
    "prob_addk_nueva = [add_k_probability(w1, w2, k=0.5) for w1, w2 in bigrams_nueva]\n",
    "prob_nosmoothing = [bigram_counts.get((w1, w2), 0) / unigram_counts.get(w1, 1) for w1, w2 in bigrams_nueva]\n",
    "\n",
    "if any(p == 0 for p in prob_nosmoothing):\n",
    "    print(\"La frase contiene bigramas con probabilidad cero. No se puede calcular entropía y perplejidad sin smoothing.\")\n",
    "    ent_no = float('inf')\n",
    "    per_no = float('inf')\n",
    "else:\n",
    "    ent_no = calcular_entropia(prob_nosmoothing)\n",
    "    per_no = calcular_perplejidad(ent_no)\n",
    "\n",
    "ent_lap = calcular_entropia(prob_laplace_nueva)\n",
    "ent_addk = calcular_entropia(prob_addk_nueva)\n",
    "\n",
    "# Mostrar resultados de entropía y perplejidad\n",
    "print(\"Frase:\", frase_nueva)\n",
    "print(f\"Sin smoothing → Entropía: {round(ent_no, 4)}, Perplejidad: {round(calcular_perplejidad(ent_no), 4)}\")\n",
    "print(f\"Laplace       → Entropía: {round(ent_lap, 4)}, Perplejidad: {round(calcular_perplejidad(ent_lap), 4)}\")\n",
    "print(f\"Add-K (k=0.5) → Entropía: {round(ent_addk, 4)}, Perplejidad: {round(calcular_perplejidad(ent_addk), 4)}\")\n",
    "\n",
    "# Mostrar en tabla\n",
    "df_ejercicio = pd.DataFrame(bigrams_nueva, columns=[\"P1\", \"P2\"])\n",
    "df_ejercicio[\"Conteo Bigrama\"] = df_ejercicio.apply(lambda row: bigram_counts.get((row[\"P1\"], row[\"P2\"]), 0), axis=1)\n",
    "df_ejercicio[\"Conteo Unigrama\"] = df_ejercicio[\"P1\"].apply(lambda w: unigram_counts.get(w, 0))\n",
    "df_ejercicio[\"Probabilidad sin smoothing\"] = prob_nosmoothing\n",
    "df_ejercicio[\"Probabilidad Laplace\"] = [round(p, 6) for p in prob_laplace_nueva]\n",
    "df_ejercicio[\"Probabilidad Add-K\"] = [round(p, 6) for p in prob_addk_nueva]\n",
    "\n",
    "display(df_ejercicio)"
   ]
  }
 ],
 "metadata": {
  "kernelspec": {
   "display_name": "nlp-lab4",
   "language": "python",
   "name": "python3"
  },
  "language_info": {
   "codemirror_mode": {
    "name": "ipython",
    "version": 3
   },
   "file_extension": ".py",
   "mimetype": "text/x-python",
   "name": "python",
   "nbconvert_exporter": "python",
   "pygments_lexer": "ipython3",
   "version": "3.12.11"
  }
 },
 "nbformat": 4,
 "nbformat_minor": 5
}
